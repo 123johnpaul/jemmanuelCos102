{
 "cells": [
  {
   "cell_type": "code",
   "execution_count": 1,
   "metadata": {},
   "outputs": [
    {
     "name": "stdout",
     "output_type": "stream",
     "text": [
      "Welcome to my equation calculator\n"
     ]
    },
    {
     "ename": "ValueError",
     "evalue": "invalid literal for int() with base 10: ''",
     "output_type": "error",
     "traceback": [
      "\u001b[1;31m---------------------------------------------------------------------------\u001b[0m",
      "\u001b[1;31mValueError\u001b[0m                                Traceback (most recent call last)",
      "Cell \u001b[1;32mIn[1], line 2\u001b[0m\n\u001b[0;32m      1\u001b[0m \u001b[38;5;28mprint\u001b[39m(\u001b[38;5;124m\"\u001b[39m\u001b[38;5;124mWelcome to my equation calculator\u001b[39m\u001b[38;5;124m\"\u001b[39m)\n\u001b[1;32m----> 2\u001b[0m equation \u001b[38;5;241m=\u001b[39m \u001b[38;5;28mint\u001b[39m(\u001b[38;5;28minput\u001b[39m(\u001b[38;5;124m\"\u001b[39m\u001b[38;5;124mwhat equation do you want to solve\u001b[39m\u001b[38;5;130;01m\\n\u001b[39;00m\u001b[38;5;124minput 2 for cubic equations, 1 for quartic equations and 0 for quadratic equations\u001b[39m\u001b[38;5;124m\"\u001b[39m))\n\u001b[0;32m      4\u001b[0m \u001b[38;5;28;01mdef\u001b[39;00m \u001b[38;5;21mcubic_equations\u001b[39m():\n\u001b[0;32m      5\u001b[0m     \u001b[38;5;28mprint\u001b[39m(\u001b[38;5;124m\"\u001b[39m\u001b[38;5;124mNOTE!!!\u001b[39m\u001b[38;5;130;01m\\n\u001b[39;00m\u001b[38;5;124mThis algorithm gives results for whole real numbers only\u001b[39m\u001b[38;5;124m\"\u001b[39m)\n",
      "\u001b[1;31mValueError\u001b[0m: invalid literal for int() with base 10: ''"
     ]
    }
   ],
   "source": [
    "print(\"Welcome to my equation calculator\")\n",
    "equation = int(input(\"what equation do you want to solve\\ninput 2 for cubic equations, 1 for quartic equations and 0 for quadratic equations\"))\n",
    "\n",
    "def cubic_equations():\n",
    "    print(\"NOTE!!!\\nThis algorithm gives results for whole real numbers only\")\n",
    "    #for cubic equation\n",
    "    x3 = int(input(\"input the value of x to the power of 3\"))\n",
    "    x2 = int(input(\"input the value of x to the power of 2\"))\n",
    "    x1 = int(input(\"input the value of x to the power of 1\"))\n",
    "    x0 = int(input(\"input the value of constant\"))\n",
    "\n",
    "    root_1 = []\n",
    "\n",
    "\n",
    "    #using factor theorem\n",
    "    for i in range(1,100):\n",
    "        x = i\n",
    "        result = (x3 * (x ** 3)) + (x2 * (x ** 2)) + (x1 * x) + x0\n",
    "        if result == 0:\n",
    "            root_1.append(x)\n",
    "    print(root_1)\n",
    "\n",
    "def quartic_equations():\n",
    "    print(\"NOTE!!!\\nThis algorithm gives results for whole real numbers only\")\n",
    "    #for quartic equation\n",
    "    x4 = int(input(\"input the value of x to the power of 4\"))\n",
    "    x3 = int(input(\"input the value of x to the power of 3\"))\n",
    "    x2 = int(input(\"input the value of x to the power of 2\"))\n",
    "    x1 = int(input(\"input the value of x to the power of 1\"))\n",
    "    x0 = int(input(\"input the value of constant\"))\n",
    "\n",
    "    roots = []\n",
    "\n",
    "\n",
    "    #using factor theorem\n",
    "    for i in range(1,100):\n",
    "        x = i\n",
    "        result = (x4 * (x ** 4)) + (x3 * (x ** 3)) + (x2 * (x ** 2)) + (x1 * x) + x0\n",
    "        if result == 0:\n",
    "            roots.append(x)\n",
    "    print(roots)\n",
    "\n",
    "def quadratic_equations():\n",
    "    print(\"NOTE!!!\\nThis algorithm gives results for whole real numbers only\")\n",
    "    #for quadratic equation\n",
    "    x2 = int(input(\"input the value of x to the power of 2\"))\n",
    "    x1 = int(input(\"input the value of x to the power of 1\"))\n",
    "    x0 = int(input(\"input the value of constant\"))\n",
    "\n",
    "    roots = []\n",
    "    xx = (x1 ** 2) - (4 * x2 * x0)\n",
    "\n",
    "\n",
    "    #using almighty formula\n",
    "    import math\n",
    "\n",
    "    xxx = math.sqrt(xx)\n",
    "                    \n",
    "    x = ((-x1) + (xxx)) / (2 ** x2)\n",
    "    y = ((-x1) - (xxx)) / (2 ** x2)\n",
    "    roots.append(x)\n",
    "    roots.append(x)\n",
    "    print(roots)\n",
    "\n",
    "\n",
    "if __name__ == \"__main__\":\n",
    "    if equation == 2:\n",
    "        cubic_equations()\n",
    "    elif equation == 1:\n",
    "        quartic_equations()\n",
    "    elif equation == 0:\n",
    "        quadratic_equations()\n",
    "    else:\n",
    "        print(\"WRONG INPUT!!!\")"
   ]
  },
  {
   "cell_type": "code",
   "execution_count": null,
   "metadata": {},
   "outputs": [],
   "source": []
  }
 ],
 "metadata": {
  "kernelspec": {
   "display_name": "Python 3",
   "language": "python",
   "name": "python3"
  },
  "language_info": {
   "codemirror_mode": {
    "name": "ipython",
    "version": 3
   },
   "file_extension": ".py",
   "mimetype": "text/x-python",
   "name": "python",
   "nbconvert_exporter": "python",
   "pygments_lexer": "ipython3",
   "version": "3.11.7"
  }
 },
 "nbformat": 4,
 "nbformat_minor": 2
}
