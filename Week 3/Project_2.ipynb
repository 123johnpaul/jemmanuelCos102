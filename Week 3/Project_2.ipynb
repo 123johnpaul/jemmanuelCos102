{
 "cells": [
  {
   "cell_type": "code",
   "execution_count": 2,
   "metadata": {},
   "outputs": [
    {
     "name": "stdout",
     "output_type": "stream",
     "text": [
      "Welcome to my equation calculator\n",
      "NOTE!!!\n",
      "This algorithm gives results for whole real numbers only\n",
      "[1, 10, 12]\n"
     ]
    }
   ],
   "source": [
    "print(\"Welcome to my equation calculator\")\n",
    "equation = int(input(\"what equation do you want to solve\\ninput 2 for cubic equations, 1 for quartic equations and 0 for quadratic equations\"))\n",
    "\n",
    "def cubic_equations():\n",
    "    print(\"NOTE!!!\\nThis algorithm gives results for whole real numbers only\")\n",
    "    #for cubic equation\n",
    "    x3 = int(input(\"input the value of x to the power of 3\"))\n",
    "    x2 = int(input(\"input the value of x to the power of 2\"))\n",
    "    x1 = int(input(\"input the value of x to the power of 1\"))\n",
    "    x0 = int(input(\"input the value of constant\"))\n",
    "\n",
    "    root_1 = []\n",
    "\n",
    "\n",
    "    #using factor theorem\n",
    "    for i in range(1,100):\n",
    "        x = i\n",
    "        result = (x3 * (x ** 3)) + (x2 * (x ** 2)) + (x1 * x) + x0\n",
    "        if result == 0:\n",
    "            root_1.append(x)\n",
    "    print(root_1)\n",
    "\n",
    "def quartic_equations():\n",
    "    print(\"NOTE!!!\\nThis algorithm gives results for whole real numbers only\")\n",
    "    #for quartic equation\n",
    "    x4 = int(input(\"input the value of x to the power of 4\"))\n",
    "    x3 = int(input(\"input the value of x to the power of 3\"))\n",
    "    x2 = int(input(\"input the value of x to the power of 2\"))\n",
    "    x1 = int(input(\"input the value of x to the power of 1\"))\n",
    "    x0 = int(input(\"input the value of constant\"))\n",
    "\n",
    "    roots = []\n",
    "\n",
    "\n",
    "    #using factor theorem\n",
    "    for i in range(1,100):\n",
    "        x = i\n",
    "        result = (x4 * (x ** 4)) + (x3 * (x ** 3)) + (x2 * (x ** 2)) + (x1 * x) + x0\n",
    "        if result == 0:\n",
    "            roots.append(x)\n",
    "    print(roots)\n",
    "\n",
    "def quadratic_equations():\n",
    "    print(\"NOTE!!!\\nThis algorithm gives results for whole real numbers only\")\n",
    "    #for quadratic equation\n",
    "    x2 = int(input(\"input the value of x to the power of 2\"))\n",
    "    x1 = int(input(\"input the value of x to the power of 1\"))\n",
    "    x0 = int(input(\"input the value of constant\"))\n",
    "\n",
    "    roots = []\n",
    "    xx = (x1 ** 2) - (4 * x2 * x0)\n",
    "\n",
    "\n",
    "    #using almighty formula\n",
    "    import math\n",
    "\n",
    "    xxx = math.sqrt(xx)\n",
    "                    \n",
    "    x = ((-x1) + (xxx)) / (2 ** x2)\n",
    "    y = ((-x1) - (xxx)) / (2 ** x2)\n",
    "    roots.append(x)\n",
    "    roots.append(x)\n",
    "    print(roots)\n",
    "\n",
    "\n",
    "if equation == 2:\n",
    "    cubic_equations()\n",
    "elif equation == 1:\n",
    "    quartic_equations()\n",
    "elif equation == 0:\n",
    "    quadratic_equations()\n",
    "else:\n",
    "    print(\"WRONG INPUT!!!\")"
   ]
  },
  {
   "cell_type": "code",
   "execution_count": null,
   "metadata": {},
   "outputs": [],
   "source": []
  }
 ],
 "metadata": {
  "kernelspec": {
   "display_name": "Python 3",
   "language": "python",
   "name": "python3"
  },
  "language_info": {
   "codemirror_mode": {
    "name": "ipython",
    "version": 3
   },
   "file_extension": ".py",
   "mimetype": "text/x-python",
   "name": "python",
   "nbconvert_exporter": "python",
   "pygments_lexer": "ipython3",
   "version": "3.11.7"
  }
 },
 "nbformat": 4,
 "nbformat_minor": 2
}
