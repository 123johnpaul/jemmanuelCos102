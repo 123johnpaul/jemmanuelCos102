{
 "cells": [
  {
   "cell_type": "code",
   "execution_count": null,
   "id": "3286c3d2-3ee8-4d27-a8f4-f4c06c945506",
   "metadata": {},
   "outputs": [],
   "source": [
    "str = input(\"Enter your state of origin:\")\n",
    "\n",
    "print(\"Your state of origin is: \", str)\n",
    "print(\"The first character is: \", str[0])\n",
    "print(\"The characters starting from 3rd to 5th are: \", str[2:5])\n",
    "print(\"The string starting from 3rd character is: \", str[2:])\n",
    "print(\"State of origin two times\", str * 2)"
   ]
  },
  {
   "cell_type": "code",
   "execution_count": null,
   "id": "24bb09ed",
   "metadata": {},
   "outputs": [],
   "source": [
    "# Input from user\n",
    "m = float(input(\"Enter mass in kilograms: \"))\n",
    "\n",
    "# Constant value for the speed of light in m/s\n",
    "c = 299792458\n",
    "\n",
    "# Calculating energy using Einstein's equation\n",
    "energy = m * c ** 2\n",
    "\n",
    "# Displaying the result\n",
    "print(f\"The energy equivalent to {m}kg of mass is {energy} joules.\")"
   ]
  },
  {
   "cell_type": "code",
   "execution_count": null,
   "id": "45da1749",
   "metadata": {},
   "outputs": [],
   "source": [
    "list = ['Anaconda', 786, 2.23, 'Jupyter', 70.2]\n",
    "shortlist = [321, 'Python']\n",
    "\n",
    "print(list)\n",
    "print(list[0])\n",
    "print(list[1:3])\n",
    "print(list[2:])\n",
    "print(shortlist * 2)\n",
    "print(list + shortlist)"
   ]
  },
  {
   "cell_type": "code",
   "execution_count": null,
   "id": "5976da99",
   "metadata": {},
   "outputs": [],
   "source": [
    "tuple = (\"Ekiti\", 750, 'Oshogbo', 250, \"Akure\", 500)\n",
    "s_tuple = (\"Abeokuta\", 300, \"Ogbomoso\")\n",
    "\n",
    "# Prints the complete tuple\n",
    "print(tuple)\n",
    "\n",
    "# Prints last element of the tuple\n",
    "print(tuple[-1])\n",
    "\n",
    "# Prints elements of the tuple starting from 2nd till 3rd\n",
    "print(tuple[2:4])\n",
    "\n",
    "# Prints elements of the tuple starting from 3rd element\n",
    "print(tuple[3:])\n",
    "\n",
    "# Prints the contents of the tuple twice\n",
    "print(s_tuple * 3)\n",
    "\n",
    "# Prints concatenated tuples\n",
    "print(tuple + s_tuple)"
   ]
  },
  {
   "cell_type": "code",
   "execution_count": null,
   "id": "8b1a6c8b",
   "metadata": {},
   "outputs": [],
   "source": [
    "# Returns false as game_1 is not equal to game_2\n",
    "game_1 = 2\n",
    "game_2 = 4\n",
    "print(bool(game_1 == game_2))\n",
    "# Or\n",
    "print(game_1 == game_2)\n",
    "\n",
    "# Returns False as val is None\n",
    "val = None\n",
    "print(bool(val))\n",
    "\n",
    "# Returns false as num is an empty sequence\n",
    "num = ()\n",
    "print(bool(num))\n",
    "\n",
    "# Returns true as age is boolean\n",
    "age = True\n",
    "print(bool(age))"
   ]
  },
  {
   "cell_type": "code",
   "execution_count": null,
   "id": "019b5f6c",
   "metadata": {},
   "outputs": [],
   "source": [
    "# Convert to int\n",
    "\n",
    "grade = int(70)     # grade will be 70\n",
    "gpa = int(4.9)      # gpa will be 4.9\n",
    "cgpa = int(\"4\")     # cgpa will be 4\n",
    "\n",
    "print(f\"Grade = {grade}\")\n",
    "print(f\"GPA = {gpa}\")\n",
    "print(f\"CGPA = {cgpa}\")"
   ]
  }
 ],
 "metadata": {
  "kernelspec": {
   "display_name": "Python 3 (ipykernel)",
   "language": "python",
   "name": "python3"
  },
  "language_info": {
   "codemirror_mode": {
    "name": "ipython",
    "version": 3
   },
   "file_extension": ".py",
   "mimetype": "text/x-python",
   "name": "python",
   "nbconvert_exporter": "python",
   "pygments_lexer": "ipython3",
   "version": "3.12.0"
  }
 },
 "nbformat": 4,
 "nbformat_minor": 5
}
