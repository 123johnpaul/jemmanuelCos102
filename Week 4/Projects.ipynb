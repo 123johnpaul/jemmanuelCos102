{
 "cells": [
  {
   "cell_type": "code",
   "execution_count": 23,
   "metadata": {},
   "outputs": [
    {
     "name": "stdout",
     "output_type": "stream",
     "text": [
      "You are expected to input the name of student, age of student, height of student in feet and score of students respectively\n",
      "input details for student number 1\n",
      "Data has been saved\n",
      "Name                 | Age                  | Height               | Gender               | Score               \n",
      "jhae                 | 18                   | 6.0                  | M                    | 98                  \n"
     ]
    }
   ],
   "source": [
    "students = int(input(\"how many students do you want to register\"))\n",
    "\n",
    "print(\"You are expected to input the name of student, age of student, height of student in feet and score of students respectively\")\n",
    "#name = []\n",
    "#age = []\n",
    "#height = []\n",
    "#score = []\n",
    "#gender = []\n",
    "\n",
    "student_data = {'name': [],'age': [],'height': [], 'gender': [],'score': []}\n",
    "student_data_placement = {'name': 'Name','age': 'Age','height': 'Height', 'gender': 'Gender','score': 'Score'}\n",
    "for i in range(students):\n",
    "    student_count = i+1\n",
    "    print(f\"input details for student number {student_count}\")\n",
    "    \n",
    "    names = input(\"student name\")\n",
    "    student_data['name'].append(names)\n",
    "\n",
    "    ages = input(\"student age\")\n",
    "    student_data['age'].append(ages)\n",
    "\n",
    "    heights = input(\"student height\")\n",
    "    student_data['height'].append(heights)\n",
    "\n",
    "    genders = input(\"student gender(M for male,F for Female)\")\n",
    "    student_data['gender'].append(genders)\n",
    "\n",
    "    scores = input(\"Student score\")\n",
    "    student_data['score'].append(scores)\n",
    "print(\"Data has been saved\")\n",
    "data = input(\"Do you want to print your data\\nInput yes or no\").lower()\n",
    "\n",
    "if data == \"yes\":\n",
    "    print(f\"{student_data_placement['name']:<20} | {student_data_placement['age']:<20} | {student_data_placement['height']:<20} | {student_data_placement['gender']:<20} | {student_data_placement['score']:<20}\")\n",
    "    for i in range(students):\n",
    "        print(f\"{student_data['name'][i]:<20} | {student_data['age'][i]:<20} | {student_data['height'][i]:<20} | {student_data['gender'][i]:<20} | {student_data['score'][i]:<20}\")\n",
    "else:\n",
    "    print(\"okay!!!!\")\n"
   ]
  },
  {
   "cell_type": "code",
   "execution_count": null,
   "metadata": {},
   "outputs": [],
   "source": [
    "#ATR checker\n",
    "staff_number = int(input(\"how many staff are to be checked today\"))\n",
    "\n",
    "for i in range(staff_number):\n",
    "    name = input(\"What is your name??\")\n",
    "    age = int(input(\"How old are you??\"))\n",
    "    experience = int(input(\"How many years of experience do you have??\"))\n",
    "\n",
    "    if experience <= 25:\n",
    "        if age <= 55:\n",
    "            print(\"your ATR is 5.6 million naira\")\n",
    "    elif experience <= 20:\n",
    "        if age <= 45:\n",
    "            print(\"your ATR is 4.48 million naira\")\n",
    "    elif experience <= 10:\n",
    "        if age <= 35:\n",
    "            print(\"your ATR is 1.5 million naira\")\n",
    "    elif experience > 10:\n",
    "        if age > 35:\n",
    "            print(\"your ATR is 550 thousand naira\")\n",
    "    else:\n",
    "        print(\"not in record\")"
   ]
  }
 ],
 "metadata": {
  "kernelspec": {
   "display_name": "base",
   "language": "python",
   "name": "python3"
  },
  "language_info": {
   "codemirror_mode": {
    "name": "ipython",
    "version": 3
   },
   "file_extension": ".py",
   "mimetype": "text/x-python",
   "name": "python",
   "nbconvert_exporter": "python",
   "pygments_lexer": "ipython3",
   "version": "3.11.7"
  }
 },
 "nbformat": 4,
 "nbformat_minor": 2
}
