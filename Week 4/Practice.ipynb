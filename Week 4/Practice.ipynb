{
 "cells": [
  {
   "cell_type": "code",
   "execution_count": 1,
   "metadata": {},
   "outputs": [
    {
     "name": "stdout",
     "output_type": "stream",
     "text": [
      "the name of city 1 after swap  is \n",
      "the name of city 2 after swap  is \n"
     ]
    }
   ],
   "source": [
    "# python program to swap two cities\n",
    "\n",
    "# to take inputs from user\n",
    "city_1 = input(\"Enter name of city 1\")\n",
    "city_2 = input(\"Enter name of city 2\")\n",
    "\n",
    "# create a temporary variable and swap the cities\n",
    "temp = city_1\n",
    "city_1 = city_2\n",
    "city_2 = temp\n",
    "\n",
    "print(f\"the name of city 1 after swap  is {city_1}\")\n",
    "print(f\"the name of city 2 after swap  is {city_2}\")"
   ]
  },
  {
   "cell_type": "code",
   "execution_count": 2,
   "metadata": {},
   "outputs": [
    {
     "ename": "ValueError",
     "evalue": "could not convert string to float: ''",
     "output_type": "error",
     "traceback": [
      "\u001b[1;31m---------------------------------------------------------------------------\u001b[0m",
      "\u001b[1;31mValueError\u001b[0m                                Traceback (most recent call last)",
      "Cell \u001b[1;32mIn[2], line 3\u001b[0m\n\u001b[0;32m      1\u001b[0m \u001b[38;5;66;03m# Program to check if a number is positive or negative or 0\u001b[39;00m\n\u001b[1;32m----> 3\u001b[0m num \u001b[38;5;241m=\u001b[39m \u001b[38;5;28mfloat\u001b[39m(\u001b[38;5;28minput\u001b[39m(\u001b[38;5;124m\"\u001b[39m\u001b[38;5;124mInput a number\u001b[39m\u001b[38;5;124m\"\u001b[39m))\n\u001b[0;32m      4\u001b[0m \u001b[38;5;28;01mif\u001b[39;00m num \u001b[38;5;241m==\u001b[39m \u001b[38;5;241m0\u001b[39m:\n\u001b[0;32m      5\u001b[0m     \u001b[38;5;28mprint\u001b[39m(\u001b[38;5;124m\"\u001b[39m\u001b[38;5;124mZero\u001b[39m\u001b[38;5;124m\"\u001b[39m)\n",
      "\u001b[1;31mValueError\u001b[0m: could not convert string to float: ''"
     ]
    }
   ],
   "source": [
    "# Program to check if a number is positive or negative or 0\n",
    "\n",
    "num = float(input(\"Input a number\"))\n",
    "if num == 0:\n",
    "    print(\"Zero\")\n",
    "elif num > 0:\n",
    "    print(\"Positive Number\")\n",
    "else:\n",
    "    print(\"Negative number\")"
   ]
  },
  {
   "cell_type": "code",
   "execution_count": 3,
   "metadata": {},
   "outputs": [
    {
     "name": "stdout",
     "output_type": "stream",
     "text": [
      "Welcome to the COUPE DE ESCRIVA FOOTBAL PICKS FOR 2023\n",
      "Madiba:  Chubby Obiora-Okafo\n",
      "Blue-jays:  Christopher Uweh\n",
      "Cirok:  Alexander\n",
      "TSG Walkers:  Ikechukwu\n",
      "Madiba:  Chubby Obiora-Okafo\n",
      "Blue-jays:  Christopher Uweh\n",
      "Cirok:  Alexander\n",
      "TSG Walkers:  Ikechukwu\n"
     ]
    }
   ],
   "source": [
    "#COUPE DE ESCRIVA 2023: football picks\n",
    "\n",
    "print(\"Welcome to the COUPE DE ESCRIVA FOOTBAL PICKS FOR 2023\")\n",
    "\n",
    "captain = {'Madiba: ': 'Chubby Obiora-Okafo', \n",
    "           'Blue-jays: ': 'Christopher Uweh', 'Cirok: ': \n",
    "           'Alexander', 'TSG Walkers: ': 'Ikechukwu' }\n",
    "\n",
    "goalkeppers = {'Madiba: ': 'Chubby Obiora-Okafo', \n",
    "           'Blue-jays: ': 'Christopher Uweh', 'Cirok: ': \n",
    "           'Alexander', 'TSG Walkers: ': 'Ikechukwu'}\n",
    "\n",
    "for pick in captain:\n",
    "    print(pick, captain[pick])\n",
    "\n",
    "for pick in goalkeppers:\n",
    "    print(pick,goalkeppers[pick])"
   ]
  }
 ],
 "metadata": {
  "kernelspec": {
   "display_name": "base",
   "language": "python",
   "name": "python3"
  },
  "language_info": {
   "codemirror_mode": {
    "name": "ipython",
    "version": 3
   },
   "file_extension": ".py",
   "mimetype": "text/x-python",
   "name": "python",
   "nbconvert_exporter": "python",
   "pygments_lexer": "ipython3",
   "version": "3.11.7"
  }
 },
 "nbformat": 4,
 "nbformat_minor": 2
}
