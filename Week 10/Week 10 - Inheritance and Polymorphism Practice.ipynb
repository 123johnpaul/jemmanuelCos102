{
 "cells": [
  {
   "cell_type": "markdown",
   "metadata": {},
   "source": [
    "# Inheritance in Python"
   ]
  },
  {
   "cell_type": "markdown",
   "metadata": {},
   "source": [
    "Inheritance is the capability of one class to derive or inherit the properties from another class. The benefits of inheritance are: \n",
    " \n",
    "<ol><li>\n",
    "It represents real-world relationships well.</li><li>\n",
    "It provides reusability of a code, so that you don’t have to write the same code again and again. </li><li>It allows for adding more features to a class without modifying it.</li><li>\n",
    "It is transitive in nature, which means that if class B inherits from another class A, then all the subclasses of B would automatically inherit from class A.</li><ol>"
   ]
  },
  {
   "cell_type": "markdown",
   "metadata": {},
   "source": [
    "### A Python program to demonstrate inheritance"
   ]
  },
  {
   "cell_type": "code",
   "execution_count": 2,
   "metadata": {},
   "outputs": [
    {
     "name": "stdout",
     "output_type": "stream",
     "text": [
      "Segun Da-Silver False\n",
      "Omotayo Ayeni True\n"
     ]
    }
   ],
   "source": [
    "class Person(object):\n",
    "\n",
    "    # Constructor\n",
    "    def __init__(self, name):\n",
    "        self.name = name\n",
    "\n",
    "    # To get name method\n",
    "    def getname(self):\n",
    "        return self.name\n",
    "\n",
    "    # To check if this person is an employee\n",
    "    def isEmployee(self):\n",
    "        return False\n",
    "    \n",
    "\n",
    "# Inherited or Subclass (Note Person in bracket)\n",
    "class Employee(Person):\n",
    "\n",
    "    # Here employee method returns true\n",
    "    def isEmployee(self):\n",
    "        return True\n",
    "\n",
    "# Object Instantiation\n",
    "emp = Person(\"Segun Da-Silver\") # An Object of Person\n",
    "print(emp.getname(), emp.isEmployee())\n",
    "\n",
    "emp = Employee(\"Omotayo Ayeni\") # An Object of Employee\n",
    "print(emp.getname(), emp.isEmployee())\n"
   ]
  },
  {
   "cell_type": "markdown",
   "metadata": {},
   "source": [
    "### What is object class? \n",
    "In Python (from version 3.x), object is root of all classes. \n",
    "In Python 3.x, <b>“class Test(object)”</b> and <b>“class Test”</b> are same. \n",
    "\n",
    "### Subclassing (Calling constructor of parent class) \n",
    "<ul><li>A child class needs to identify which class is its parent class.</li><li> This can be done by mentioning the parent class name in the definition of the child class. \n",
    "Eg: class subclass_name (superclass_name): </li></ul>"
   ]
  },
  {
   "cell_type": "code",
   "execution_count": 3,
   "metadata": {},
   "outputs": [
    {
     "name": "stdout",
     "output_type": "stream",
     "text": [
      "Name: Adedoyin Adeniji\n",
      "ID No.: 886012\n",
      "Salary: 200000\n"
     ]
    }
   ],
   "source": [
    "# Python code to demonstrate how parent constructors\n",
    "# are called.\n",
    "\n",
    "# parent class\n",
    "class Person(object):\n",
    "\n",
    "        # __init__ is known as the constructor\n",
    "        def __init__(self, name, idnumber):\n",
    "            self.name = name\n",
    "            self.idnumber = idnumber\n",
    "            \n",
    "        def display(self):\n",
    "            print(\"Name:\", self.name)\n",
    "            print(\"ID No.:\", self.idnumber)\n",
    "            print(\"Salary:\", self.salary)\n",
    "\n",
    "# child class\n",
    "class Employee(Person):\n",
    "    def __init__(self, name, idnumber, salary, post):\n",
    "        self.salary = salary\n",
    "        self.post = post\n",
    "\n",
    "        # invoking the __init__ of the parent class\n",
    "        Person.__init__(self,name,idnumber)\n",
    "\n",
    "                \n",
    "# creation of an object variable or an instance\n",
    "a = Employee('Adedoyin Adeniji', 886012, 200000, \"Intern\")\n",
    "\n",
    "# calling a function of the class Person using its instance\n",
    "a.display()\n"
   ]
  },
  {
   "cell_type": "markdown",
   "metadata": {},
   "source": [
    "### Note that:\n",
    "<ul><li>In Python, every class inherits from a built-in basic class called ‘object’. The constructor i.e. the ‘__init__’ function of a class is invoked when we create an object variable or an instance of the class.</li><li>\n",
    "The variables defined within __init__() are called as the instance variables or objects. Hence, ‘name’ and ‘idnumber’ are the objects of the class Person. Similarly, ‘salary’ and ‘post’ are the objects of the class Employee.</li><li> Since the class Employee inherits from class Person, ‘name’ and ‘idnumber’ are also the objects of class Employee.</li><li>\n",
    "If you forget to invoke the __init__() of the parent class then its instance variables would not be available to the child class. </li></ul>"
   ]
  },
  {
   "cell_type": "code",
   "execution_count": 4,
   "metadata": {},
   "outputs": [
    {
     "name": "stdout",
     "output_type": "stream",
     "text": [
      "<__main__.B object at 0x000001785C187B10>\n"
     ]
    }
   ],
   "source": [
    "# Python program to demonstrate error if we\n",
    "# forget to invoke __init__() of the parent.\n",
    "\n",
    "class A:\n",
    "    def __init__(self, n = 'Emmanuel Abbah'):\n",
    "        self.name = n\n",
    "        \n",
    "class B(A):\n",
    "    def __init__(self, roll):\n",
    "        self.roll = roll\n",
    "        A.__init__(self,n = \"Emmanuel Abbah\")\n",
    "\n",
    "# Object Instance\n",
    "obj = B(23)\n",
    "print (obj)\n"
   ]
  },
  {
   "cell_type": "markdown",
   "metadata": {},
   "source": [
    "## Types of Inheritance in Python\n",
    "There are four types of inheritance in Python. The type of Inheritance depends upon the number of child and parent classes involved. : \n",
    "\n",
    "#### Single Inheritance:\n",
    "<ul><li> Single inheritance enables a derived class to inherit properties from a single parent class, thus enabling code reusability and the addition of new features to existing code.</li></ul>"
   ]
  },
  {
   "cell_type": "code",
   "execution_count": 5,
   "metadata": {},
   "outputs": [
    {
     "name": "stdout",
     "output_type": "stream",
     "text": [
      "This function is in parent class.\n",
      "This function is in child class.\n"
     ]
    }
   ],
   "source": [
    "# Python program to demonstrate\n",
    "# single inheritance\n",
    "\n",
    "\n",
    "# Base class\n",
    "class parents: \n",
    "    def func1(self):\n",
    "        print(\"This function is in parent class.\")\n",
    "\n",
    "# Derived class\n",
    "class Child(parents):\n",
    "    def func2(self):\n",
    "        print(\"This function is in child class.\")\n",
    "\n",
    "# Object Instance\n",
    "object = Child()\n",
    "object.func1()\n",
    "object.func2()\n"
   ]
  },
  {
   "cell_type": "markdown",
   "metadata": {},
   "source": [
    "#### Multiple Inheritance:\n",
    "<ul><li>When a class can be derived from more than one base class this type of inheritance is called multiple inheritance. </li><li>In multiple inheritance, all the features of the base classes are inherited into the derived class. </li></ul>\n",
    " "
   ]
  },
  {
   "cell_type": "code",
   "execution_count": 7,
   "metadata": {},
   "outputs": [
    {
     "name": "stdout",
     "output_type": "stream",
     "text": [
      "Father : Paul Abiodun\n",
      "Mother : Caroline Aina\n"
     ]
    }
   ],
   "source": [
    "# Python program to demonstrate\n",
    "# multiple inheritance\n",
    "\n",
    "\n",
    "# Base class1\n",
    "class Mother: \n",
    "    motherName = \"Caroline Aina\"\n",
    "    def mother(self):\n",
    "        print(self.motherName)\n",
    "\n",
    "# Base class2\n",
    "class Father:\n",
    "    fathername = \"Paul Abiodun\"\n",
    "    def father(self):\n",
    "        print(self.fathername)\n",
    "\n",
    "# Derived class\n",
    "class Son(Mother, Father):\n",
    "    def parents(self):\n",
    "        print(\"Father :\", self.fathername)\n",
    "        print(\"Mother :\", self.motherName)\n",
    "\n",
    "# Object Instance\n",
    "s1 = Son()\n",
    "s1.parents()\n"
   ]
  },
  {
   "cell_type": "markdown",
   "metadata": {},
   "source": [
    "#### Multilevel Inheritance\n",
    "<ul><li>In multilevel inheritance, features of the base class and the derived class are further inherited into the new derived class.</li><li> This is similar to a relationship representing a child and grandfather.</li></ul> "
   ]
  },
  {
   "cell_type": "code",
   "execution_count": 9,
   "metadata": {},
   "outputs": [
    {
     "name": "stdout",
     "output_type": "stream",
     "text": [
      "Oluwafemi\n",
      "Grandfather name : Oluwafemi\n",
      "Father name : Abiodun\n",
      "Son name : Gbenga\n"
     ]
    }
   ],
   "source": [
    "# Python program to demonstrate\n",
    "# multilevel inheritance\n",
    "\n",
    "# Base class\n",
    "class Grandfather:\n",
    "\n",
    "    def __init__(self, grandfathername):\n",
    "        self.grandfathername = grandfathername\n",
    "\n",
    "# Intermediate class\n",
    "class Father(Grandfather):\n",
    "    def __init__(self, fathername, grandfathername):\n",
    "        self.fathername = fathername\n",
    "\n",
    "        # invoking constructor of Grandfather class\n",
    "        Grandfather.__init__(self, grandfathername)\n",
    "\n",
    "# Derived class\n",
    "class Son(Father):\n",
    "    def __init__(self,sonname, fathername, grandfathername):\n",
    "        self.sonname = sonname\n",
    "\n",
    "        # invoking constructor of Father class\n",
    "        Father.__init__(self, fathername, grandfathername)\n",
    "\n",
    "    def print_name(self):\n",
    "        print('Grandfather name :', self.grandfathername)\n",
    "        print(\"Father name :\", self.fathername)\n",
    "        print(\"Son name :\", self.sonname)\n",
    "\n",
    "# Object Instance\n",
    "s1 = Son('Gbenga', 'Abiodun', 'Oluwafemi')\n",
    "print(s1.grandfathername)\n",
    "s1.print_name()\n"
   ]
  },
  {
   "cell_type": "markdown",
   "metadata": {},
   "source": [
    "#### Hierarchical Inheritance:\n",
    "<ul><li>When more than one derived classes are created from a single base this type of inheritance is called hierarchical inheritance.</li><li> In this program, we have a parent (base) class and two child (derived) classes.</li></ul>"
   ]
  },
  {
   "cell_type": "code",
   "execution_count": null,
   "metadata": {},
   "outputs": [],
   "source": [
    "# Python program to demonstrate\n",
    "# Hierarchical inheritance\n",
    "\n",
    "\n",
    "# Base class\n",
    "class Parent:\n",
    "    def func1(self):\n",
    "        print(\"This function is in parent class.\")\n",
    "\n",
    "# Derived class1\n",
    "class Child1(Parent):\n",
    "    def func2(self):\n",
    "        print(\"This function is in child 1.\")\n",
    "\n",
    "# Derivied class2\n",
    "class Child2(Parent):\n",
    "    def func3(self):\n",
    "        print(\"This function is in child 2.\")\n",
    "\n",
    "# Object Instantiation\n",
    "object1 = Child1()\n",
    "object2 = Child2()\n",
    "object1.func1()\n",
    "object1.func2()\n",
    "object2.func1()\n",
    "object2.func3()\n"
   ]
  },
  {
   "cell_type": "markdown",
   "metadata": {},
   "source": [
    "#### Hybrid Inheritance:\n",
    "<ul><li>Inheritance consisting of multiple types of inheritance is called hybrid inheritance.</li></ul>"
   ]
  },
  {
   "cell_type": "code",
   "execution_count": null,
   "metadata": {},
   "outputs": [],
   "source": [
    "# Python program to demonstrate\n",
    "# hybrid inheritance\n",
    "\n",
    "\n",
    "class School():\n",
    "    def func1(self):\n",
    "        print(\"This function is in school.\")\n",
    "\n",
    "class Student1(School):\n",
    "    def func2(self):\n",
    "        print(\"This function is in student 1. \")\n",
    "\n",
    "class Student2(School):\n",
    "    def func3(self):\n",
    "        print(\"This function is in student 2.\")\n",
    "\n",
    "class Student3(Student1, School):\n",
    "    def func4(self):\n",
    "        print(\"This function is in student 3.\")\n",
    "\n",
    "# Object Instantiation\n",
    "object = Student3()\n",
    "object.func1()\n",
    "object.func2()\n"
   ]
  },
  {
   "cell_type": "markdown",
   "metadata": {},
   "source": [
    "# Polymorphism in Python"
   ]
  },
  {
   "cell_type": "markdown",
   "metadata": {},
   "source": [
    "<ul><li>In programming, Polymorphism is a concept of OOP.</li><li>The word polymorphism means having many forms.</li><li>\n",
    "    It enables using a single interface with the input of different data types, different classes or maybe for a different number of inputs.</li><li>Polymorphism means the same function name (but different signatures) being used for different types.</li></ul>"
   ]
  },
  {
   "cell_type": "markdown",
   "metadata": {},
   "source": [
    "### Inbuilt polymorphic functions"
   ]
  },
  {
   "cell_type": "code",
   "execution_count": null,
   "metadata": {},
   "outputs": [],
   "source": [
    "# Python program to demonstrate in-built polymorphic functions\n",
    "\n",
    "# len() being used for a string\n",
    "print(len(\"Department of Computer Science\"))\n",
    "\n",
    "# len() being used for a list\n",
    "print(len([10, 20, 30, 40, 50, 60, 70]))\n"
   ]
  },
  {
   "cell_type": "markdown",
   "metadata": {},
   "source": [
    "### User-defined polymorphic functions : "
   ]
  },
  {
   "cell_type": "code",
   "execution_count": null,
   "metadata": {},
   "outputs": [],
   "source": [
    "# A simple Python function to demonstrate\n",
    "# Polymorphism\n",
    "\n",
    "def add(x, y, z = 0, w = 4): \n",
    "    return x + y + z \n",
    "\n",
    "# Driver code\n",
    "print(add(2, 3))\n",
    "print(add(2, 3, 4))\n",
    "print(add(2, 3, 5, 6))\n"
   ]
  },
  {
   "cell_type": "markdown",
   "metadata": {},
   "source": [
    "### Polymorphism with class methods: \n",
    "<ul><li>The code below shows how Python can use two different class types, in the same way.</li><li> We create a for loop that iterates through a tuple of objects. Then call the methods without being concerned about which class type each object is. We assume that these methods actually exist in each class.</li></ul> "
   ]
  },
  {
   "cell_type": "code",
   "execution_count": null,
   "metadata": {},
   "outputs": [],
   "source": [
    "class Nigeria():\n",
    "    def capital(self):\n",
    "        print(\"Lagos is the capital of Nigeria.\")\n",
    "\n",
    "    def language(self):\n",
    "        print(\"English is the official language of Nigeria.\")\n",
    "\n",
    "    def type(self):\n",
    "        print(\"Nigeria is the giant of Africa.\")\n",
    "\n",
    "class Togo():\n",
    "    def capital(self):\n",
    "        print(\"Lome is the capital of Togo.\")\n",
    "\n",
    "    def language(self):\n",
    "        print(\"French is the primary language of Togo.\")\n",
    "\n",
    "    def type(self):\n",
    "        print(\"Togo is known for its palm-lined beaches and hilltop villages.\")\n",
    "\n",
    "obj_naija = Nigeria()\n",
    "obj_togo = Togo()\n",
    "for country in (obj_naija, obj_togo):\n",
    "    country.capital()\n",
    "    country.language()\n",
    "    country.type()\n"
   ]
  },
  {
   "cell_type": "markdown",
   "metadata": {},
   "source": [
    "### Polymorphism with Inheritance:\n",
    "<ul><li>In Python, Polymorphism lets us define methods in the child class that have the same name as the methods in the parent class. In inheritance, the child class inherits the methods from the parent class.</li><li> However, it is possible to modify a method in a child class that it has inherited from the parent class.</li><li> This is particularly useful in cases where the method inherited from the parent class doesn’t quite fit the child class. In such cases, we re-implement the method in the child class.</li><li> This process of re-implementing a method in the child class is known as <b>Method Overriding. </b> </li></ul>"
   ]
  },
  {
   "cell_type": "code",
   "execution_count": null,
   "metadata": {},
   "outputs": [],
   "source": [
    "class Bird:\n",
    "    def intro(self):\n",
    "        print(\"There are many types of birds.\")\n",
    "\n",
    "    def flight(self):\n",
    "        print(\"Most of the birds can fly but some cannot.\")\n",
    "        \n",
    "    \n",
    "class sparrow(Bird):\n",
    "    def flight(self):\n",
    "        print(\"Sparrows can fly.\")    \n",
    "\n",
    "class ostrich(Bird):\n",
    "    def flight(self):\n",
    "        print(\"Ostriches cannot fly.\")\n",
    "\n",
    "obj_bird = Bird()\n",
    "obj_spr = sparrow()\n",
    "obj_ost = ostrich()\n",
    "\n",
    "obj_bird.intro()\n",
    "obj_bird.flight()\n",
    "\n",
    "obj_spr.intro()\n",
    "obj_spr.flight()\n",
    "\n",
    "obj_ost.intro()\n",
    "obj_ost.flight()\n"
   ]
  },
  {
   "cell_type": "markdown",
   "metadata": {},
   "source": [
    "# Class Project I"
   ]
  },
  {
   "cell_type": "markdown",
   "metadata": {},
   "source": [
    "Mary, Agatha and Noel work with Zenith Bank Nigeria. Mary works in the Retail Banking Division, Agatha works in the Global Banking Division and Noel works in the Commercial Banking Division. The three divisions have some unique services and some mutual services as indicated:\n",
    "\n",
    "#### Retail Banking:\n",
    "<ul><li>Lines of credit</li><li>\n",
    "Investment management and accounts</li><li>\n",
    "Insurance</li><li>\n",
    "Retirement and education accounts</li><li>\n",
    "    loans and mortgagges</li><li>\n",
    "    Checking and saving</li></ul>\n",
    "\n",
    "#### Global Banking:\n",
    "<ul><li>Multi-currency management services and products</li><li>\n",
    "Foreign currency accounts</li><li>\n",
    "Foreign currency credit cards</li><li>\n",
    "Transborder advisory services</li><li>\n",
    "Liquidity management</li></ul>\n",
    "\n",
    "#### Commercial Banking:\n",
    "<ul><li>Lines of credit</li><li>\n",
    "Investment management and accounts</li><li>\n",
    "Insurance</li><li>\n",
    "Advisory services</li></ul>\n",
    "\n",
    "With your knowledge in OOP develop a python GUI program that will take as input an employee name and division, and then displays the service rendered in the division. The program should highlght key concepts of OOP; class objects inheritance and polymorphism.\n",
    "\n",
    "#### Hints:\n",
    "<ul><li>Create parent class <b>zenith()</b> with two methods <b>unique_services()</b> and <b>mutual_services()</b></li><li>\n",
    "    The different divisions can be subclasses of the parent class, inheriting the parent methods.</li><li>\n",
    "    Ploymorphism can be used to overide exclusive services.</li><ul>"
   ]
  },
  {
   "cell_type": "code",
   "execution_count": 1,
   "metadata": {},
   "outputs": [],
   "source": [
    "from tkinter import *\n",
    "from tkinter import messagebox\n",
    "from tkinter import ttk\n",
    "\n",
    "root = Tk()\n",
    "root.title(\"Zenith bank\")\n",
    "root.geometry(\"500x250\")\n",
    "\n",
    "class confirm(object):\n",
    "    def __init__(self,name):\n",
    "        self.name=name\n",
    "        self.Name = [\"Mary\",\"Agatha\",\"Noel\"]\n",
    "        \n",
    "    def okay(self):\n",
    "        if self.name in self.Name:\n",
    "            return True\n",
    "        else:\n",
    "            return False\n",
    "\n",
    "class services(object):\n",
    "    def __init__(self):\n",
    "        pass\n",
    "    def mutual_services():\n",
    "        both_retail_and_commercial = [\"Lines of credit\",\"Insurance\",\"Investment management and accounts\"]\n",
    "        return both_retail_and_commercial\n",
    "    \n",
    "class retail_banking(services):\n",
    "    def unique_services(self):\n",
    "        Retail_banking = [\"Retirement and education accounts\",\"loans and mortgagges\",\"Checking and saving\"]\n",
    "        return Retail_banking\n",
    "    \n",
    "class global_banking():\n",
    "    def unique_services(self):\n",
    "        Global_banking = [\"Multi-currency management services and products\",\"Foreign currency accounts\",\"Foreign currency credit cards\",\"Transborder advisory services\",\"Liquidity management\"]\n",
    "        return Global_banking\n",
    "\n",
    "class commercial_banking(services):\n",
    "    def unique_services(self):\n",
    "        commercial_banking = [\"Advisory services\"]\n",
    "        return commercial_banking\n",
    "\n",
    "def check():\n",
    "    confirmed = confirm(employee_name_label.get())\n",
    "    if confirmed.okay() == True:\n",
    "\n",
    "        serv1 = []\n",
    "        serv2 = []\n",
    "\n",
    "        l = str(combo1.get())\n",
    "\n",
    "        if l == \"Global Banking\":\n",
    "            gb = global_banking()\n",
    "            serv1 = gb.unique_services()\n",
    "        elif l == \"Commercial Banking\":\n",
    "            cb = commercial_banking()\n",
    "            serv1 = cb.unique_services()\n",
    "            serv2 = services.mutual_services()\n",
    "        elif l == \"Retail Banking\":\n",
    "            rb = retail_banking()\n",
    "            serv1 = rb.unique_services()\n",
    "            serv2 = services.mutual_services()\n",
    "        else:\n",
    "            messagebox.showerror(\"error\",\"this division doesn't exist\")\n",
    "\n",
    "        statement = f\"{employee_name_label.get()} Welcome\\nHere are the services your division {l} offers\\n\"\n",
    "\n",
    "        for i in range(0,3):\n",
    "            k = serv2[i]\n",
    "            serv1.append(k)\n",
    "        \n",
    "        c = int(len(serv1))\n",
    "        for i in range(0,c):\n",
    "            statement += f\"* {serv1[i]}\\n\"\n",
    "        \n",
    "        messagebox.showinfo(root,message=statement)\n",
    "    else:\n",
    "        messagebox.showerror(\"Warning\",\"You are not an Employee\")\n",
    "\n",
    "employee_name_label = Label(root,text = \"Input your firstname\")\n",
    "employee_name_label.pack()\n",
    "employee_name_label = Entry(root)\n",
    "employee_name_label.pack()\n",
    "\n",
    "label = Label(root,text = \"choose your division\")\n",
    "label.pack()\n",
    "divisions = [\"choose\",\"Global Banking\",\"Commercial Banking\",\"Retail Banking\"]\n",
    "\n",
    "combo1 =ttk.Combobox(root,value = divisions)\n",
    "combo1.current(0)\n",
    "combo1.bind(\"<<CombovoxSelected>>\")\n",
    "combo1.pack()\n",
    "\n",
    "button = Button(root,text=\"submit\",command = check)\n",
    "button.pack()\n",
    "\n",
    "root.mainloop()"
   ]
  }
 ],
 "metadata": {
  "kernelspec": {
   "display_name": "Python 3",
   "language": "python",
   "name": "python3"
  },
  "language_info": {
   "codemirror_mode": {
    "name": "ipython",
    "version": 3
   },
   "file_extension": ".py",
   "mimetype": "text/x-python",
   "name": "python",
   "nbconvert_exporter": "python",
   "pygments_lexer": "ipython3",
   "version": "3.11.7"
  }
 },
 "nbformat": 4,
 "nbformat_minor": 4
}
