{
 "cells": [
  {
   "cell_type": "code",
   "execution_count": 10,
   "id": "a4fbfc03-b4cf-48d4-887b-a7a550a90578",
   "metadata": {},
   "outputs": [
    {
     "name": "stdin",
     "output_type": "stream",
     "text": [
      "input your principal 1000\n",
      "input your rate 20\n",
      "input time 6\n"
     ]
    },
    {
     "name": "stdout",
     "output_type": "stream",
     "text": [
      "2200.0\n"
     ]
    }
   ],
   "source": [
    "#Simple Interest\n",
    "principal = int(input(\"input your principal\"))\n",
    "rate = int(input(\"input your rate\"))\n",
    "time = int(input(\"input time\"))\n",
    "amount = principal*(1+((rate/100)*time))\n",
    "print(amount)"
   ]
  },
  {
   "cell_type": "code",
   "execution_count": 12,
   "id": "cd11ea16-c7d5-4f17-a558-e872d42a34a1",
   "metadata": {},
   "outputs": [
    {
     "name": "stdin",
     "output_type": "stream",
     "text": [
      "input your principal 1000\n",
      "input your rate 20\n",
      "input time 6\n",
      "input number of times your intrest is added per annum 1\n"
     ]
    },
    {
     "name": "stdout",
     "output_type": "stream",
     "text": [
      "1000.0640000000001\n"
     ]
    }
   ],
   "source": [
    "#Compound interest\n",
    "principal = int(input(\"input your principal\"))\n",
    "rate = int(input(\"input your rate\"))\n",
    "time = int(input(\"input time\"))\n",
    "n = int(input(\"input number of times your intrest is added per annum\"))\n",
    "amount = principal*(1+((rate/100)**time*n))\n",
    "print(amount)"
   ]
  },
  {
   "cell_type": "code",
   "execution_count": 16,
   "id": "3018e780-dade-4844-ab38-adbcb1ef7b51",
   "metadata": {},
   "outputs": [
    {
     "name": "stdin",
     "output_type": "stream",
     "text": [
      "input your rate 20\n",
      "input time 6\n",
      "input number of times your intrest is added per annum 1\n",
      "input your pmt 2000\n"
     ]
    },
    {
     "name": "stdout",
     "output_type": "stream",
     "text": [
      "12000.0\n"
     ]
    }
   ],
   "source": [
    "#Annuity plan\n",
    "rate = int(input(\"input your rate\"))\n",
    "time = int(input(\"input time\"))\n",
    "n = int(input(\"input number of times your intrest is added per annum\"))\n",
    "pmt = int(input(\"input your pmt\"))\n",
    "amount = pmt*(((1+((rate/n)**n*time))-1)/(rate/n))\n",
    "print(amount)\n"
   ]
  },
  {
   "cell_type": "code",
   "execution_count": null,
   "id": "76c78d83-2a25-4692-b57c-af5c5e258327",
   "metadata": {},
   "outputs": [],
   "source": []
  }
 ],
 "metadata": {
  "kernelspec": {
   "display_name": "Python 3 (ipykernel)",
   "language": "python",
   "name": "python3"
  },
  "language_info": {
   "codemirror_mode": {
    "name": "ipython",
    "version": 3
   },
   "file_extension": ".py",
   "mimetype": "text/x-python",
   "name": "python",
   "nbconvert_exporter": "python",
   "pygments_lexer": "ipython3",
   "version": "3.11.7"
  }
 },
 "nbformat": 4,
 "nbformat_minor": 5
}
