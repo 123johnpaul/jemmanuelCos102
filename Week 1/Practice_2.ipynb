{
 "cells": [
  {
   "cell_type": "code",
   "execution_count": 2,
   "id": "ef409118-e715-4e47-ac4c-c1e9c1729b7a",
   "metadata": {},
   "outputs": [
    {
     "name": "stdout",
     "output_type": "stream",
     "text": [
      "Hi my name is Matthew. I am a string\n",
      "<class 'str'>\n",
      "Hi my name is precious . I am also a string\n",
      "<class 'str'>\n"
     ]
    }
   ],
   "source": [
    "# Python program tp print strings and type\n",
    "str1 = \"Hi my name is Matthew. I am a string\"\n",
    "str2 = \"Hi my name is precious . I am also a string\"\n",
    "\n",
    "#displaying str1 and its type\n",
    "print(str1)\n",
    "print (type(str1))\n",
    "\n",
    "#displaying str2 and its type\n",
    "print(str2)\n",
    "print (type(str2))"
   ]
  },
  {
   "cell_type": "code",
   "execution_count": null,
   "id": "7abcaf9d-e5f0-4598-adc8-ad3f443ff122",
   "metadata": {},
   "outputs": [],
   "source": []
  }
 ],
 "metadata": {
  "kernelspec": {
   "display_name": "Python 3 (ipykernel)",
   "language": "python",
   "name": "python3"
  },
  "language_info": {
   "codemirror_mode": {
    "name": "ipython",
    "version": 3
   },
   "file_extension": ".py",
   "mimetype": "text/x-python",
   "name": "python",
   "nbconvert_exporter": "python",
   "pygments_lexer": "ipython3",
   "version": "3.11.7"
  }
 },
 "nbformat": 4,
 "nbformat_minor": 5
}
