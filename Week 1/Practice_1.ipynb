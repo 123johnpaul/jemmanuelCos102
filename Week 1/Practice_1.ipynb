{
 "cells": [
  {
   "cell_type": "code",
   "execution_count": 5,
   "id": "413680c9-cbd5-4e0a-bf33-6d14eab0961d",
   "metadata": {},
   "outputs": [
    {
     "name": "stdout",
     "output_type": "stream",
     "text": [
      "100\n",
      "Data type of variable is  <class 'int'>\n",
      "3.141\n",
      "Data type of variable is  <class 'float'>\n",
      "(3+4j)\n",
      "Data type of variable is  <class 'complex'>\n"
     ]
    }
   ],
   "source": [
    "#Integer Number\n",
    "num = 100\n",
    "print(num)\n",
    "print(\"Data type of variable is \", type(num))\n",
    "\n",
    "#Float number\n",
    "fnum = 3.141\n",
    "print(fnum)\n",
    "print(\"Data type of variable is \", type(fnum))\n",
    "\n",
    "# Complex number\n",
    "cnum = 3+4j\n",
    "print(cnum)\n",
    "print(\"Data type of variable is \", type(cnum))"
   ]
  }
 ],
 "metadata": {
  "kernelspec": {
   "display_name": "Python 3 (ipykernel)",
   "language": "python",
   "name": "python3"
  },
  "language_info": {
   "codemirror_mode": {
    "name": "ipython",
    "version": 3
   },
   "file_extension": ".py",
   "mimetype": "text/x-python",
   "name": "python",
   "nbconvert_exporter": "python",
   "pygments_lexer": "ipython3",
   "version": "3.11.7"
  }
 },
 "nbformat": 4,
 "nbformat_minor": 5
}
